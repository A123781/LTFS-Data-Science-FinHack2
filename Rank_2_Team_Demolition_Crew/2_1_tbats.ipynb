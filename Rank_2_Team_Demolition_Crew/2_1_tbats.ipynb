{
 "cells": [
  {
   "cell_type": "code",
   "execution_count": 1,
   "metadata": {},
   "outputs": [],
   "source": [
    "import pandas as pd\n",
    "import numpy as np\n",
    "from datetime import date, timedelta\n",
    "\n",
    "data = pd.read_csv('./data/train.csv')\n",
    "data.head()\n",
    "\n",
    "new_branch_id=[2,4,6,12,22,23,24,25,26,27,28,30,31,32,33,37]\n",
    "old_branch_id=list(set(data.branch_id.unique())-set(new_branch_id))\n",
    "data['application_date']=pd.to_datetime(data['application_date'])\n",
    "data['branch_id_new']=data.loc[data.branch_id.isnull(),'state'].map({'TRIPURA':2,\n",
    "                                   'TAMIL NADU':4,\n",
    "                                   'PUNJAB':6,\n",
    "                                   'ASSAM':12,\n",
    "                                   'UTTAR PRADESH':22,\n",
    "                                   'MAHARASHTRA':23,\n",
    "                                   'ORISSA':24,\n",
    "                                   'KARNATAKA':25,\n",
    "                                   'KERALA':26,\n",
    "                                   'MADHYA PRADESH':27,\n",
    "                                   'HARYANA':28,\n",
    "                                   'BIHAR':30,\n",
    "                                   'GUJARAT':31,\n",
    "                                   'CHHATTISGARH':32,\n",
    "                                   'WEST BENGAL':33,\n",
    "                                   'JHARKHAND':37})\n",
    "data.loc[data.branch_id.isnull(),'branch_id']= data['branch_id_new']\n",
    "data=data.drop('branch_id_new',axis=1)\n",
    "\n",
    "d1 = data['application_date'].min()\n",
    "d2 = pd.to_datetime(data.groupby('branch_id')['application_date'].max().unique())\n",
    "\n",
    "# this will give you a list containing all of the dates\n",
    "dd_newlist = [d1 + timedelta(days=x) for x in range((d2[1]-d1).days + 1)]\n",
    "dd_oldlist = [d1 + timedelta(days=x) for x in range((d2[0]-d1).days + 1)]\n",
    "\n",
    "new=pd.DataFrame({'branch_id':np.repeat(old_branch_id,len(dd_oldlist)),\n",
    "             'application_date':dd_oldlist*len(old_branch_id)}).dropna()\n",
    "new = new.append(pd.DataFrame({'branch_id':np.repeat(new_branch_id,len(dd_newlist)),\n",
    "             'application_date':dd_newlist*len(new_branch_id)}), ignore_index=True)\n",
    "\n",
    "branch=data[['branch_id','segment','state']].drop_duplicates().copy()\n",
    "state=data[['state','zone']].drop_duplicates().dropna().copy()\n",
    "state=state[~((state.state == 'ORISSA') & (state.zone == 'SOUTH'))]\n",
    "branch=pd.merge(branch,state,on='state',how='left')\n",
    "\n",
    "new=pd.merge(new,branch,on='branch_id',how='left')\n",
    "\n",
    "data=data.drop(['state','zone'],axis=1)\n",
    "data=pd.merge(new,data,on=['branch_id','segment','application_date'],how='left')\n",
    "data.head()\n",
    "data.to_csv('preprocessed_train_for_tbats.csv',index=False)"
   ]
  },
  {
   "cell_type": "code",
   "execution_count": null,
   "metadata": {},
   "outputs": [],
   "source": []
  }
 ],
 "metadata": {
  "kernelspec": {
   "display_name": "Python 3",
   "language": "python",
   "name": "python3"
  },
  "language_info": {
   "codemirror_mode": {
    "name": "ipython",
    "version": 3
   },
   "file_extension": ".py",
   "mimetype": "text/x-python",
   "name": "python",
   "nbconvert_exporter": "python",
   "pygments_lexer": "ipython3",
   "version": "3.7.3"
  }
 },
 "nbformat": 4,
 "nbformat_minor": 2
}
